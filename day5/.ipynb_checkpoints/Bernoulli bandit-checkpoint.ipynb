{
 "cells": [
  {
   "cell_type": "code",
   "execution_count": 1,
   "metadata": {},
   "outputs": [],
   "source": [
    "import sys\n",
    "import numpy as np\n",
    "import pandas as pd\n",
    "import matplotlib.pyplot as plt\n",
    "import torch\n",
    "import random"
   ]
  },
  {
   "cell_type": "code",
   "execution_count": 2,
   "metadata": {},
   "outputs": [],
   "source": [
    "class bernoulli_bandit():\n",
    "  def __init__(self,real_bandits):\n",
    "    if len(real_bandits)<2:\n",
    "      raise ValueError('Number of bandits for test is invalid, must specify at least two')\n",
    "    self.a=np.array([5,5,5,5])\n",
    "    self.b=np.array([5,5,5,5])\n",
    "\n",
    "  def reward(self):\n",
    "    self.number= np.argmax(bandits)\n",
    "    reward= np.random.binomial(1,real_bandits[self.number])\n",
    "    self.a[self.number]=self.a[self.number]+(reward)\n",
    "    self.b[self.number]=self.b[self.number]+(1-reward)\n",
    "\n",
    "  def sampling(self):\n",
    "    for i in range(0,len(real_bandits)):\n",
    "      bandits[i]=np.random.beta(self.a[i],self.b[i])\n"
   ]
  },
  {
   "cell_type": "code",
   "execution_count": 3,
   "metadata": {},
   "outputs": [
    {
     "data": {
      "text/plain": [
       "<AxesSubplot:>"
      ]
     },
     "execution_count": 3,
     "metadata": {},
     "output_type": "execute_result"
    },
    {
     "data": {
      "image/png": "[encoded data removed]",
      "text/plain": [
       "<Figure size 432x288 with 1 Axes>"
      ]
     },
     "metadata": {
      "needs_background": "light"
     },
     "output_type": "display_data"
    }
   ],
   "source": [
    "df=pd.DataFrame()\n",
    "regret = 0\n",
    "for i in range(0,100):\n",
    " real_bandits=[0.1,0.2,0.3,0.4]\n",
    " bandits=np.random.beta(5,5,len(real_bandits))\n",
    " bandit9 =bernoulli_bandit(real_bandits)\n",
    " \n",
    " for x in range(0,1000):\n",
    "   bandit9.reward()\n",
    "   regret += (np.amax(real_bandits)-real_bandits[np.argmax(bandits)])\n",
    "   df.loc[x,i]=regret\n",
    "   bandit9.sampling()\n",
    "df.mean(axis=1).plot()\n"
   ]
  },
  {
   "cell_type": "code",
   "execution_count": null,
   "metadata": {},
   "outputs": [],
   "source": []
  }
 ],
 "metadata": {
  "kernelspec": {
   "display_name": "Python 3",
   "language": "python",
   "name": "python3"
  },
  "language_info": {
   "codemirror_mode": {
    "name": "ipython",
    "version": 3
   },
   "file_extension": ".py",
   "mimetype": "text/x-python",
   "name": "python",
   "nbconvert_exporter": "python",
   "pygments_lexer": "ipython3",
   "version": "3.6.10"
  }
 },
 "nbformat": 4,
 "nbformat_minor": 4
}
