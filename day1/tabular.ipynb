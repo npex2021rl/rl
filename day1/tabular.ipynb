{
 "cells": [
  {
   "cell_type": "code",
   "execution_count": 1,
   "metadata": {},
   "outputs": [],
   "source": [
    "import numpy as np\n",
    "from utils import bellman_update, print_result"
   ]
  },
  {
   "cell_type": "markdown",
   "metadata": {},
   "source": [
    "# 0. Warming up!"
   ]
  },
  {
   "cell_type": "markdown",
   "metadata": {},
   "source": [
    "## 0.0. Toy Example"
   ]
  },
  {
   "cell_type": "code",
   "execution_count": 10,
   "metadata": {},
   "outputs": [],
   "source": [
    "R = np.array([[-2.0, -0.5],\n",
    "              [-1.0, -3.0]])\n",
    "\n",
    "P = np.array([[0.75, 0.25],\n",
    "              [0.75, 0.25],\n",
    "              [0.25, 0.75],\n",
    "              [0.25, 0.75]])\n",
    "\n",
    "gamma = 0.9"
   ]
  },
  {
   "cell_type": "markdown",
   "metadata": {},
   "source": [
    "## 0.1. Define Q-function and Greedy policy\n",
    "What we need to compute: $Q(s, a) = r(s, a) + \\gamma \\sum_{s^\\prime} p(s^\\prime \\mid s, a) v(s^\\prime)$, and $\\pi_{\\text{greedy}}(s) = \\arg\\max_a Q(s, a)$."
   ]
  },
  {
   "cell_type": "code",
   "execution_count": 15,
   "metadata": {},
   "outputs": [],
   "source": [
    "def q_ftn(P, R, gamma, v):\n",
    "    \"\"\"\n",
    "    given v, get corresponding q\n",
    "    hint : v's shape = (|S|, 1)\n",
    "           P's shape = (|S| * |A|, |S|)\n",
    "           R's shape = (|S|, |A|)\n",
    "           [Fill here]'s shape = (|S| * |A|, 1)\n",
    "           numpy.matmul(A, x) returns a matrix multiplication result A * x.\n",
    "    \"\"\"\n",
    "    # TODO : Complete the following line.\n",
    "    # return R + gamma * np.reshape([Fill here], newshape=R.shape, order='F')\n",
    "\n",
    "\n",
    "def bellman_update(P, R, gamma, v):\n",
    "    # TODO : complete the function\n",
    "    q = q_ftn(P, R, gamma, v)\n",
    "    # v_next = ...\n",
    "    return v_next\n",
    "\n",
    "\n",
    "def greedy(P, R, gamma, v):\n",
    "    \"\"\"\n",
    "    construct greedy policy by pi(s) = argmax_a q(s, a)\n",
    "    \"\"\"\n",
    "    q = q_ftn(P, R, gamma, v)\n",
    "    pi = np.argmax(q, axis=1)\n",
    "\n",
    "    return pi\n"
   ]
  },
  {
   "cell_type": "markdown",
   "metadata": {},
   "source": [
    "# 1. Value Iteration"
   ]
  },
  {
   "cell_type": "code",
   "execution_count": 38,
   "metadata": {},
   "outputs": [
    {
     "name": "stdout",
     "output_type": "stream",
     "text": [
      "Iteration terminated in 129-th step.\n",
      "+========== Result ==========+\n",
      "optimal value function : \n",
      "v(s1) = -7.327576823826019\n",
      "v(s2) = -7.672404410032915\n",
      "optimal policy : \n",
      "pi(s1) = a2\n",
      "pi(s2) = a1\n"
     ]
    }
   ],
   "source": [
    "EPS = 1e-6\n",
    "nS, nA = R.shape\n",
    "# initialize v\n",
    "v = np.zeros(shape=(nS, 1), dtype=np.float)\n",
    "\n",
    "count = 0\n",
    "while True:\n",
    "    v_next = bellman_update(P, R, gamma, v)\n",
    "    if np.linalg.norm(v_next - v, ord=np.inf) < EPS:\n",
    "        break\n",
    "    v = v_next\n",
    "    count += 1\n",
    "print('Iteration terminated in {} steps.'.format(count))\n",
    "\n",
    "pi = greedy(P, R, gamma, v)\n",
    "print_result(v, pi)"
   ]
  },
  {
   "cell_type": "markdown",
   "metadata": {},
   "source": [
    "# 2. Policy Iteration"
   ]
  },
  {
   "cell_type": "markdown",
   "metadata": {},
   "source": [
    "## 2.0. Bellman Equation for Policy Iteration\n",
    "\n",
    "$P^\\pi = \\begin{pmatrix} p(s_1 \\vert s_1, \\pi(s_1)) & \\cdots & p(s_N \\vert s_1, \\pi(s_1)) \\\\ \\vdot & \\ddot & \\vdot \\\\ p(s_1 \\vert s_N, \\pi(s_N)) & \\cdot & p(s_N \\vert s_N, \\pi(s_N))\n",
    "\\end{pmatrix}$\n",
    "\n",
    "\n",
    "\\begin{equation*}\n",
    "v^\\pi = (I - \\gamma P^\\pi)^{-1} R^{\\pi}\n",
    "\\end{equation*}\n",
    "To solve the above equation, you may use <font color='red'>numpy.linalg.solve(A, b)</font>.\n",
    "This returns a solution of the linear equations $A x = b$, i.e., $x = A^{-1}b$."
   ]
  },
  {
   "cell_type": "code",
   "execution_count": 34,
   "metadata": {},
   "outputs": [],
   "source": [
    "def induced_dynamic(nS, P, R, pi):\n",
    "    \"\"\"\n",
    "    given policy pi, compute induced dynamic P^pi & R^pi\n",
    "    \"\"\"\n",
    "    S = range(nS)\n",
    "    # TODO : complete the below line\n",
    "    # rows = ...\n",
    "    P_pi = P[rows]\n",
    "    R_pi = np.array([[R[s, pi[s]]] for s in range(nS)])\n",
    "\n",
    "    return P_pi, R_pi\n",
    "\n",
    "\n",
    "def eval_policy(nS, P, R, gamma, pi):\n",
    "    \"\"\"\n",
    "    policy evaluation\n",
    "    \"\"\"\n",
    "    P_pi, R_pi = induced_dynamic(nS, P, R, pi)\n",
    "\n",
    "    Id = np.identity(nS)\n",
    "    # discounted reward problem\n",
    "    # TODO : Complete the below lines. (Hint. numpy.linalg.solve(A, b) returns a solution of A * x = b., i.e. A^{-1}b)\n",
    "    # A = ...\n",
    "    # b = ...\n",
    "    \n",
    "    v_pi = np.linalg.solve(A, b)\n",
    "    return v_pi"
   ]
  },
  {
   "cell_type": "code",
   "execution_count": 37,
   "metadata": {},
   "outputs": [
    {
     "name": "stdout",
     "output_type": "stream",
     "text": [
      "Iteration terminated in 1-th step.\n",
      "+========== Result ==========+\n",
      "optimal value function : \n",
      "v(s1) = -7.3275862068965525\n",
      "v(s2) = -7.672413793103449\n",
      "optimal policy : \n",
      "pi(s1) = a2\n",
      "pi(s2) = a1\n"
     ]
    }
   ],
   "source": [
    "nS, nA = R.shape\n",
    "\n",
    "# initialize policy\n",
    "pi = np.random.randint(nA, size=nS)\n",
    "\n",
    "count = 0\n",
    "while True:\n",
    "    v = eval_policy(nS, P, R, gamma, pi)\n",
    "    pi_next = greedy(P, R, gamma, v)\n",
    "    if (pi_next == pi).all():\n",
    "        break\n",
    "    pi = pi_next\n",
    "    count += 1\n",
    "print('Iteration terminated in {} steps.'.format(count))\n",
    "\n",
    "print_result(v, pi)"
   ]
  },
  {
   "cell_type": "markdown",
   "metadata": {},
   "source": [
    "# 3. Example : GridWorld"
   ]
  },
  {
   "cell_type": "markdown",
   "metadata": {},
   "source": [
    "<img src=\"./gridworld.png\" style=\"width: 500px;\">\n",
    "\n",
    "explanation"
   ]
  },
  {
   "cell_type": "markdown",
   "metadata": {},
   "source": [
    "## 3.0. Load Model"
   ]
  },
  {
   "cell_type": "code",
   "execution_count": 2,
   "metadata": {},
   "outputs": [],
   "source": [
    "from gridworld import GridWorld, plot_heatmap\n",
    "\n",
    "P = GridWorld.P\n",
    "R = GridWorld.R\n",
    "\n",
    "gamma = 0.9"
   ]
  },
  {
   "cell_type": "markdown",
   "metadata": {},
   "source": [
    "## 3.1. Value Iteration"
   ]
  },
  {
   "cell_type": "code",
   "execution_count": 10,
   "metadata": {},
   "outputs": [],
   "source": [
    "from utils import *\n",
    "import time"
   ]
  },
  {
   "cell_type": "code",
   "execution_count": 13,
   "metadata": {},
   "outputs": [
    {
     "name": "stdout",
     "output_type": "stream",
     "text": [
      "Value iteration terminated in 153 steps.\n",
      "Elapsed time =  0.011432886123657227 sec\n"
     ]
    }
   ],
   "source": [
    "EPS = 1e-6\n",
    "nS, nA = R.shape\n",
    "# initialize v\n",
    "v = np.zeros(shape=(nS, 1), dtype=np.float)\n",
    "\n",
    "begin = time.time()\n",
    "count = 0\n",
    "while True:\n",
    "    v_next = bellman_update(P, R, gamma, v)\n",
    "    if np.linalg.norm(v_next - v, ord=np.inf) < EPS:\n",
    "        break\n",
    "    v = v_next\n",
    "    count += 1\n",
    "pi = greedy(P, R, gamma, v)\n",
    "v_vi = v\n",
    "print('Value iteration terminated in {} steps.'.format(count))\n",
    "print('Elapsed time = ', time.time() - begin, 'sec')"
   ]
  },
  {
   "cell_type": "markdown",
   "metadata": {},
   "source": [
    "## 3.2. Policy Iteration"
   ]
  },
  {
   "cell_type": "code",
   "execution_count": 14,
   "metadata": {},
   "outputs": [
    {
     "name": "stdout",
     "output_type": "stream",
     "text": [
      "Policy iteration terminated in 8 steps.\n",
      "Elapsed time =  0.003052949905395508 sec\n"
     ]
    }
   ],
   "source": [
    "nS, nA = R.shape\n",
    "\n",
    "# initialize policy\n",
    "pi = np.random.randint(nA, size=nS)\n",
    "\n",
    "begin = time.time()\n",
    "count = 0\n",
    "while True:\n",
    "    v = eval_policy(nS, P, R, gamma, pi)\n",
    "    pi_next = greedy(P, R, gamma, v)\n",
    "    if (pi_next == pi).all():\n",
    "        break\n",
    "    pi = pi_next\n",
    "    count += 1\n",
    "print('Policy iteration terminated in {} steps.'.format(count))\n",
    "v_pi = v\n",
    "print('Elapsed time = ', time.time() - begin, 'sec')"
   ]
  },
  {
   "cell_type": "markdown",
   "metadata": {},
   "source": [
    "## 3.3. Visualization!"
   ]
  },
  {
   "cell_type": "code",
   "execution_count": 6,
   "metadata": {},
   "outputs": [
    {
     "data": {
      "image/png": "[encoded data removed]",
      "text/plain": [
       "<Figure size 720x576 with 2 Axes>"
      ]
     },
     "metadata": {
      "needs_background": "light"
     },
     "output_type": "display_data"
    }
   ],
   "source": [
    "plot_heatmap(v_vi, v_pi)"
   ]
  },
  {
   "cell_type": "code",
   "execution_count": null,
   "metadata": {},
   "outputs": [],
   "source": []
  }
 ],
 "metadata": {
  "kernelspec": {
   "display_name": "Python 3",
   "language": "python",
   "name": "python3"
  },
  "language_info": {
   "codemirror_mode": {
    "name": "ipython",
    "version": 3
   },
   "file_extension": ".py",
   "mimetype": "text/x-python",
   "name": "python",
   "nbconvert_exporter": "python",
   "pygments_lexer": "ipython3",
   "version": "3.6.10"
  }
 },
 "nbformat": 4,
 "nbformat_minor": 4
}
