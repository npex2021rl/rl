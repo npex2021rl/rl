{
 "cells": [
  {
   "cell_type": "markdown",
   "metadata": {},
   "source": [
    "# Tabular Q-learning Practice"
   ]
  },
  {
   "cell_type": "code",
   "execution_count": 7,
   "metadata": {},
   "outputs": [],
   "source": [
    "import numpy as np\n",
    "import matplotlib.pyplot as plt\n",
    "from tqdm import tqdm\n",
    "from discrete_pendulum import DiscretePendulumEnv"
   ]
  },
  {
   "cell_type": "markdown",
   "metadata": {},
   "source": [
    "# 0. Basic definitions"
   ]
  },
  {
   "cell_type": "markdown",
   "metadata": {},
   "source": [
    "## 0.0. Q-table"
   ]
  },
  {
   "cell_type": "code",
   "execution_count": 2,
   "metadata": {},
   "outputs": [],
   "source": [
    "class QTable:\n",
    "    def __init__(self, num_states, num_actions, gamma=0.99, pth=None):\n",
    "        self.gamma = gamma\n",
    "        if pth is None:\n",
    "            self.Q = -300. * np.ones(shape=(num_states, num_actions))\n",
    "        else:\n",
    "            self.Q = np.load(pth, allow_pickle=True)\n",
    "\n",
    "    def update(self, state, action, reward, next_state, alpha):\n",
    "        # update Q-table according to the following update rule:\n",
    "        # Q(s, a) <- Q(s, a) + alpha * (r + gamma max_{a'} Q(s', a') - Q(s, a))\n",
    "        target = reward + self.gamma * np.max(self.Q[next_state]) - self.Q[state, action]\n",
    "        self.Q[state, action] += alpha * target\n",
    "\n",
    "    def act(self, state):\n",
    "        return np.argmax(self.Q[state])\n",
    "\n",
    "    def save(self, pth):\n",
    "        if pth is None:\n",
    "            pth = './q_table.npy'\n",
    "        np.save(pth, self.Q)\n",
    "\n",
    "    @property\n",
    "    def value_ftn(self):\n",
    "        return np.max(self.Q, axis=1)"
   ]
  },
  {
   "cell_type": "markdown",
   "metadata": {},
   "source": [
    "## 0.1. Stepsize rule & Exploration Schedule"
   ]
  },
  {
   "cell_type": "code",
   "execution_count": 3,
   "metadata": {},
   "outputs": [],
   "source": [
    "class VisitCountStepsizeSchedule:\n",
    "    def __init__(self, deg=1.0):\n",
    "        # polynomial stepsize schedule : $\\Theta(N_t(s, a)^{-d})$\n",
    "        # $N_t(s, a)$ is the number of visits of (s, a)-pair until step t\n",
    "        # to satisfy Robbins-Monro condition, d must satisfy $d \\in (1/2, 1]$\n",
    "        assert .5 < deg <= 1\n",
    "        self.deg = deg\n",
    "\n",
    "    def __call__(self, n):\n",
    "        return 1. / ((n + 1.) ** self.deg)\n",
    "\n",
    "\n",
    "class LinearExplorationSchedule:\n",
    "    def __init__(self, rollout_len, initial_epsilon=1., final_epsilon=0.02):\n",
    "        # linear exploration schedule\n",
    "        self.decrement = (initial_epsilon - final_epsilon) / rollout_len\n",
    "        self.initial_epsilon = initial_epsilon\n",
    "        self.final_epsilon = final_epsilon\n",
    "\n",
    "    def __call__(self, t):\n",
    "        # define this as callable object so that the schedule is stateless\n",
    "        return max(self.initial_epsilon - t * self.decrement, self.final_epsilon)"
   ]
  },
  {
   "cell_type": "markdown",
   "metadata": {},
   "source": [
    "# 1. Q-learning"
   ]
  },
  {
   "cell_type": "code",
   "execution_count": 4,
   "metadata": {},
   "outputs": [],
   "source": [
    "env = DiscretePendulumEnv()\n",
    "num_states = env.observation_space.n\n",
    "num_actions = env.action_space.n\n",
    "gamma = 0.99\n",
    "\n",
    "learner = QTable(num_states=env.observation_space.n, num_actions=env.action_space.n, gamma=gamma)\n",
    "rollout_len = 1000000\n",
    "visit_count = np.zeros(shape=(num_states, num_actions))     # save visit counts N(s, a) of all state-action pairs\n",
    "alpha = VisitCountStepsizeSchedule(deg=0.5001)\n",
    "epsilon = LinearExplorationSchedule(rollout_len, final_epsilon=0.4)\n",
    "\n",
    "\n",
    "checkpoint_interval = rollout_len // 20"
   ]
  },
  {
   "cell_type": "code",
   "execution_count": 5,
   "metadata": {},
   "outputs": [
    {
     "name": "stderr",
     "output_type": "stream",
     "text": [
      "100%|██████████| 1000001/1000001 [03:08<00:00, 5293.50it/s]\n"
     ]
    }
   ],
   "source": [
    "s = env.reset()\n",
    "for t in tqdm(range(rollout_len + 1)):\n",
    "    u = np.random.rand()\n",
    "    if u < epsilon(t):\n",
    "        a = env.action_space.sample()\n",
    "    else:\n",
    "        a = learner.act(state=s)\n",
    "\n",
    "    s_next, r, _, _ = env.step(action=a)\n",
    "    # env.render()\n",
    "    n = visit_count[s, a]\n",
    "    learner.update(state=s, action=a, reward=r, next_state=s_next, alpha=alpha(n))\n",
    "    visit_count[s, a] += 1\n",
    "    s = s_next\n",
    "    if t % checkpoint_interval == 0:\n",
    "        learner.save()"
   ]
  },
  {
   "cell_type": "markdown",
   "metadata": {},
   "source": [
    "# 2. Let's see if the Q-function is learned properly!"
   ]
  },
  {
   "cell_type": "markdown",
   "metadata": {},
   "source": [
    "## 2.0. Visualization"
   ]
  },
  {
   "cell_type": "code",
   "execution_count": 6,
   "metadata": {},
   "outputs": [
    {
     "name": "stdout",
     "output_type": "stream",
     "text": [
      "total reward = -105.80354836404459\n"
     ]
    }
   ],
   "source": [
    "ep_len = 400\n",
    "# test learned result!\n",
    "trajectory = np.zeros((ep_len, 2))      # store continuous states\n",
    "reward = 0.\n",
    "s = env.reset()\n",
    "\n",
    "for t in range(ep_len):\n",
    "    trajectory[t] = np.copy(env.x)\n",
    "    a = learner.act(s)\n",
    "    s, r, _, _ = env.step(a)\n",
    "    reward += (gamma ** t) * r\n",
    "    env.render()\n",
    "print('total reward =', reward)\n",
    "env.close()"
   ]
  },
  {
   "cell_type": "markdown",
   "metadata": {},
   "source": [
    "## 2.1. Trajectory Plot"
   ]
  },
  {
   "cell_type": "code",
   "execution_count": 9,
   "metadata": {},
   "outputs": [
    {
     "data": {
      "image/png": "[encoded data removed]",
      "text/plain": [
       "<Figure size 576x720 with 2 Axes>"
      ]
     },
     "metadata": {
      "needs_background": "light"
     },
     "output_type": "display_data"
    }
   ],
   "source": [
    "fig, ax = plt.subplots(2, 1, figsize=(8, 10), sharex=True)\n",
    "x = env.dt * np.arange(ep_len)\n",
    "ylabels = [r'$\\theta$ (rad)', r'$\\dot\\theta$ (rad/s)']\n",
    "ax[1].set_xlabel(r'$t$ (s)', fontsize=20)\n",
    "ax[0].set_ylim(-np.pi, np.pi)\n",
    "ax[1].set_ylim(-8., 8.)\n",
    "ax[0].set_yticks([-np.pi, -np.pi / 2, 0, np.pi / 2, np.pi])\n",
    "ax[0].set_yticklabels([r'$-\\pi$', r'$-\\pi/2$', r'$0$', r'$\\pi/2$', r'$\\pi$'])\n",
    "ax[1].set_yticks([-8, -4, 0, 4, 8])\n",
    "for i in range(2):\n",
    "    ax[i].plot(x, trajectory[:, i])\n",
    "    ax[i].set_xlim(0, x[-1])\n",
    "    ax[i].grid(True)\n",
    "    ax[i].set_ylabel(ylabels[i], fontsize=20)\n",
    "    ax[i].tick_params(axis='both', which='major', labelsize=18)\n",
    "fig.tight_layout()"
   ]
  },
  {
   "cell_type": "markdown",
   "metadata": {},
   "source": [
    "# 2.2. Q-learning Result vs Optimal Solution"
   ]
  },
  {
   "cell_type": "code",
   "execution_count": null,
   "metadata": {},
   "outputs": [],
   "source": [
    "optimal_agent = QTable(num_states=env.observation_space.n, num_actions=env.action_space.n, pth=./)"
   ]
  }
 ],
 "metadata": {
  "kernelspec": {
   "display_name": "Python 3",
   "language": "python",
   "name": "python3"
  },
  "language_info": {
   "codemirror_mode": {
    "name": "ipython",
    "version": 3
   },
   "file_extension": ".py",
   "mimetype": "text/x-python",
   "name": "python",
   "nbconvert_exporter": "python",
   "pygments_lexer": "ipython3",
   "version": "3.6.10"
  }
 },
 "nbformat": 4,
 "nbformat_minor": 4
}
